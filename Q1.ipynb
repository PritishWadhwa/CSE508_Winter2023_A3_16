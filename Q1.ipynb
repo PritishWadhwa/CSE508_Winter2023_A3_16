{
 "cells": [
  {
   "cell_type": "code",
   "execution_count": 1,
   "metadata": {},
   "outputs": [],
   "source": [
    "# Importing the desired libraries\n",
    "import numpy as np\n",
    "from tqdm import tqdm"
   ]
  },
  {
   "cell_type": "code",
   "execution_count": 2,
   "metadata": {},
   "outputs": [],
   "source": [
    "# Reading the data from the file\n",
    "file = open(\"./Data/p2p-Gnutella08.txt\", \"r\")\n",
    "graph = file.read().splitlines()[4:]\n",
    "file.close()"
   ]
  },
  {
   "cell_type": "code",
   "execution_count": 8,
   "metadata": {},
   "outputs": [],
   "source": [
    "# Converting the data into tuples where (a,b) represents an edge from a to b\n",
    "newGraph = [i.split(\"\\t\") for i in graph]\n",
    "newGraph = [[int(j) for j in i] for i in newGraph]"
   ]
  },
  {
   "cell_type": "code",
   "execution_count": 9,
   "metadata": {},
   "outputs": [
    {
     "name": "stderr",
     "output_type": "stream",
     "text": [
      "100%|██████████| 20777/20777 [00:00<00:00, 701261.41it/s]\n"
     ]
    }
   ],
   "source": [
    "# Creating a list of nodes in the graph\n",
    "listOfNodes = set()\n",
    "for i in tqdm(range(len(newGraph))):\n",
    "    listOfNodes.add(newGraph[i][0])\n",
    "    listOfNodes.add(newGraph[i][1])"
   ]
  },
  {
   "attachments": {},
   "cell_type": "markdown",
   "metadata": {},
   "source": [
    "### Adjacency Matrix"
   ]
  },
  {
   "cell_type": "code",
   "execution_count": 11,
   "metadata": {},
   "outputs": [
    {
     "name": "stderr",
     "output_type": "stream",
     "text": [
      "100%|██████████| 20777/20777 [00:00<00:00, 145530.15it/s]\n"
     ]
    }
   ],
   "source": [
    "# convert to adjacency matrix\n",
    "# adjacencyMatrix[i,j] = 1 if there is an edge from i to j\n",
    "# adjacencyMatrix[i,j] = 0 otherwise\n",
    "adjacencyMatrix = np.zeros((len(listOfNodes), len(listOfNodes)))\n",
    "for i in tqdm(newGraph):\n",
    "    adjacencyMatrix[i[0], i[1]] = 1"
   ]
  },
  {
   "attachments": {},
   "cell_type": "markdown",
   "metadata": {},
   "source": [
    "### Adjacency List"
   ]
  },
  {
   "cell_type": "code",
   "execution_count": 12,
   "metadata": {},
   "outputs": [
    {
     "name": "stderr",
     "output_type": "stream",
     "text": [
      "100%|██████████| 20777/20777 [00:00<00:00, 565095.38it/s]\n"
     ]
    }
   ],
   "source": [
    "# convert to adjacency list\n",
    "adjacencyList = {}\n",
    "# Iterate over all the edges in the graph\n",
    "for i in tqdm(newGraph):\n",
    "    # If the source node is already present in the adjacency list\n",
    "    # Append the destination node to the list of nodes adjacent to the source node\n",
    "    # Else, add the source node to the adjacency list\n",
    "    # Add the destination node to the adjacency list as well \n",
    "    if i[0] in adjacencyList:\n",
    "        adjacencyList[i[0]].append(i[1])\n",
    "        if i[1] not in adjacencyList:\n",
    "            adjacencyList[i[1]] = []\n",
    "    else:\n",
    "        adjacencyList[i[0]] = [i[1]]\n",
    "        if i[1] not in adjacencyList:\n",
    "            adjacencyList[i[1]] = []   "
   ]
  },
  {
   "attachments": {},
   "cell_type": "markdown",
   "metadata": {},
   "source": [
    "### Number of Nodes "
   ]
  },
  {
   "cell_type": "code",
   "execution_count": 13,
   "metadata": {},
   "outputs": [
    {
     "name": "stdout",
     "output_type": "stream",
     "text": [
      "Number of nodes in the graph: 6301\n"
     ]
    }
   ],
   "source": [
    "print(f\"Number of nodes in the graph: {len(adjacencyList)}\")"
   ]
  },
  {
   "attachments": {},
   "cell_type": "markdown",
   "metadata": {},
   "source": [
    "### Number of Edges"
   ]
  },
  {
   "cell_type": "code",
   "execution_count": 15,
   "metadata": {},
   "outputs": [
    {
     "name": "stdout",
     "output_type": "stream",
     "text": [
      "Number of edges in the graph: 20777\n"
     ]
    }
   ],
   "source": [
    "# Summmation of the number of edges in the graph\n",
    "# The number of edges in the graph = length of the adjacency list of each node\n",
    "numEdges = 0\n",
    "for i in adjacencyList:\n",
    "    numEdges += len(adjacencyList[i])\n",
    "print(f\"Number of edges in the graph: {numEdges}\")"
   ]
  },
  {
   "attachments": {},
   "cell_type": "markdown",
   "metadata": {},
   "source": [
    "### Calculation of inDegree and outDegree."
   ]
  },
  {
   "cell_type": "code",
   "execution_count": 26,
   "metadata": {},
   "outputs": [],
   "source": [
    "# Calculate the in-degree and out-degree of each node\n",
    "#  We iterate over all the edges in the graph (a,b) \n",
    "#   where a is the source node and b is the destination node\n",
    "#  When a node is the source node, its out-degree is incremented\n",
    "#  When a node is the destination node, its in-degree is incremented\n",
    "nodes = len(listOfNodes)\n",
    "inDegreeList = dict(zip(list(listOfNodes), [0]*nodes))\n",
    "outDegreeList = dict(zip(list(listOfNodes), [0]*nodes))\n",
    "for i in newGraph:\n",
    "    fromNode = i[0]\n",
    "    toNode = i[1]\n",
    "    inDegreeList[toNode] += 1\n",
    "    outDegreeList[fromNode] += 1"
   ]
  },
  {
   "attachments": {},
   "cell_type": "markdown",
   "metadata": {},
   "source": [
    "### Average In Degree"
   ]
  },
  {
   "cell_type": "code",
   "execution_count": 17,
   "metadata": {},
   "outputs": [
    {
     "name": "stdout",
     "output_type": "stream",
     "text": [
      "Average In-Degree: 3.2974131090303125\n"
     ]
    }
   ],
   "source": [
    "print(f\"Average In-Degree: {np.mean(list(inDegreeList.values()))}\")"
   ]
  },
  {
   "attachments": {},
   "cell_type": "markdown",
   "metadata": {},
   "source": [
    "### Average Out Degree"
   ]
  },
  {
   "cell_type": "code",
   "execution_count": 18,
   "metadata": {},
   "outputs": [
    {
     "name": "stdout",
     "output_type": "stream",
     "text": [
      "Average Out-Degree: 3.2974131090303125\n"
     ]
    }
   ],
   "source": [
    "print(f\"Average Out-Degree: {np.mean(list(outDegreeList.values()))}\")"
   ]
  },
  {
   "attachments": {},
   "cell_type": "markdown",
   "metadata": {},
   "source": [
    "### Node with max in degree"
   ]
  },
  {
   "cell_type": "code",
   "execution_count": 19,
   "metadata": {},
   "outputs": [
    {
     "name": "stderr",
     "output_type": "stream",
     "text": [
      "100%|██████████| 6301/6301 [00:00<00:00, 583316.25it/s]\n"
     ]
    }
   ],
   "source": [
    "# Iterate over all the nodes in the graph\n",
    "#  Find the node with the maximum in-degree\n",
    "maxInDegree = -1\n",
    "maxInDegreeNode = -1\n",
    "for i in tqdm(inDegreeList):\n",
    "    if inDegreeList[i] > maxInDegree:\n",
    "        maxInDegree = inDegreeList[i]\n",
    "        maxInDegreeNode = i"
   ]
  },
  {
   "cell_type": "code",
   "execution_count": 20,
   "metadata": {},
   "outputs": [
    {
     "name": "stdout",
     "output_type": "stream",
     "text": [
      "Node with maximum in-degree: 266, in-degree: 91\n"
     ]
    }
   ],
   "source": [
    "print(f\"Node with maximum in-degree: {maxInDegreeNode}, in-degree: {maxInDegree}\")"
   ]
  },
  {
   "attachments": {},
   "cell_type": "markdown",
   "metadata": {},
   "source": [
    "### Node with max out degree"
   ]
  },
  {
   "cell_type": "code",
   "execution_count": 21,
   "metadata": {},
   "outputs": [
    {
     "name": "stderr",
     "output_type": "stream",
     "text": [
      "100%|██████████| 6301/6301 [00:00<00:00, 557535.75it/s]\n"
     ]
    }
   ],
   "source": [
    "# Iterate over all the nodes in the graph\n",
    "#  Find the node with the maximum out-degree\n",
    "maxOutDegree = -1\n",
    "maxOutDegreeNode = -1\n",
    "for i in tqdm(outDegreeList):\n",
    "    if outDegreeList[i] > maxOutDegree:\n",
    "        maxOutDegree = outDegreeList[i]\n",
    "        maxOutDegreeNode = i"
   ]
  },
  {
   "cell_type": "code",
   "execution_count": 22,
   "metadata": {},
   "outputs": [
    {
     "name": "stdout",
     "output_type": "stream",
     "text": [
      "Node with maximum out-degree: 5831, out-degree: 48\n"
     ]
    }
   ],
   "source": [
    "print(f\"Node with maximum out-degree: {maxOutDegreeNode}, out-degree: {maxOutDegree}\")"
   ]
  },
  {
   "attachments": {},
   "cell_type": "markdown",
   "metadata": {},
   "source": [
    "### Density of the Graph"
   ]
  },
  {
   "cell_type": "code",
   "execution_count": 23,
   "metadata": {},
   "outputs": [],
   "source": [
    "# For directed graph, the maximum number of edges is\n",
    "# nodes * (nodes - 1)\n",
    "# Density = total number of edges / maximum number of edges\n",
    "nodes = len(listOfNodes)\n",
    "maxEdges = nodes * (nodes - 1)"
   ]
  },
  {
   "cell_type": "code",
   "execution_count": 24,
   "metadata": {},
   "outputs": [
    {
     "name": "stdout",
     "output_type": "stream",
     "text": [
      "Graph density: 0.0005233989061952878\n"
     ]
    }
   ],
   "source": [
    "print(f\"Graph density: {numEdges / maxEdges}\")"
   ]
  },
  {
   "attachments": {},
   "cell_type": "markdown",
   "metadata": {},
   "source": [
    "### Degree distribution of the Network"
   ]
  },
  {
   "cell_type": "code",
   "execution_count": 33,
   "metadata": {},
   "outputs": [
    {
     "name": "stdout",
     "output_type": "stream",
     "text": [
      "Requirement already satisfied: matplotlib in c:\\python310\\lib\\site-packages (3.7.1)\n",
      "Requirement already satisfied: cycler>=0.10 in c:\\python310\\lib\\site-packages (from matplotlib) (0.11.0)\n",
      "Requirement already satisfied: fonttools>=4.22.0 in c:\\python310\\lib\\site-packages (from matplotlib) (4.39.3)\n",
      "Requirement already satisfied: kiwisolver>=1.0.1 in c:\\python310\\lib\\site-packages (from matplotlib) (1.4.4)\n",
      "Requirement already satisfied: python-dateutil>=2.7 in c:\\python310\\lib\\site-packages (from matplotlib) (2.8.2)\n",
      "Requirement already satisfied: numpy>=1.20 in c:\\python310\\lib\\site-packages (from matplotlib) (1.24.2)\n",
      "Requirement already satisfied: contourpy>=1.0.1 in c:\\python310\\lib\\site-packages (from matplotlib) (1.0.7)\n",
      "Requirement already satisfied: packaging>=20.0 in c:\\python310\\lib\\site-packages (from matplotlib) (23.0)\n",
      "Requirement already satisfied: pillow>=6.2.0 in c:\\python310\\lib\\site-packages (from matplotlib) (9.5.0)\n",
      "Requirement already satisfied: pyparsing>=2.3.1 in c:\\python310\\lib\\site-packages (from matplotlib) (3.0.9)\n",
      "Requirement already satisfied: six>=1.5 in c:\\python310\\lib\\site-packages (from python-dateutil>=2.7->matplotlib) (1.16.0)\n"
     ]
    },
    {
     "name": "stderr",
     "output_type": "stream",
     "text": [
      "WARNING: Ignoring invalid distribution -ip (c:\\python310\\lib\\site-packages)\n",
      "WARNING: Ignoring invalid distribution -ip (c:\\python310\\lib\\site-packages)\n",
      "WARNING: Ignoring invalid distribution -ip (c:\\python310\\lib\\site-packages)\n",
      "WARNING: Ignoring invalid distribution -ip (c:\\python310\\lib\\site-packages)\n",
      "WARNING: Ignoring invalid distribution -ip (c:\\python310\\lib\\site-packages)\n",
      "WARNING: Ignoring invalid distribution -ip (c:\\python310\\lib\\site-packages)\n"
     ]
    }
   ],
   "source": [
    "# ! pip3 install matplotlib"
   ]
  },
  {
   "cell_type": "code",
   "execution_count": 34,
   "metadata": {},
   "outputs": [],
   "source": [
    "import matplotlib.pyplot as plt"
   ]
  },
  {
   "attachments": {},
   "cell_type": "markdown",
   "metadata": {},
   "source": [
    "In-degree"
   ]
  },
  {
   "cell_type": "code",
   "execution_count": 38,
   "metadata": {},
   "outputs": [
    {
     "name": "stderr",
     "output_type": "stream",
     "text": [
      "100%|██████████| 6301/6301 [00:00<00:00, 505244.12it/s]\n"
     ]
    }
   ],
   "source": [
    "# computing frequency of each in-degree value\n",
    "inDegreeFreq = {}\n",
    "for node in tqdm(inDegreeList):\n",
    "    inDegreeVal = inDegreeList[node]\n",
    "    if inDegreeVal in inDegreeFreq:\n",
    "        inDegreeFreq[inDegreeVal] += 1\n",
    "    else:\n",
    "        inDegreeFreq[inDegreeVal] = 1"
   ]
  },
  {
   "cell_type": "code",
   "execution_count": 49,
   "metadata": {},
   "outputs": [
    {
     "data": {
      "image/png": "[encoded data removed]",
      "text/plain": [
       "<Figure size 640x480 with 1 Axes>"
      ]
     },
     "metadata": {},
     "output_type": "display_data"
    }
   ],
   "source": [
    "# Plotting the in-degree distribution\n",
    "x = list(inDegreeFreq.keys())\n",
    "y = list(inDegreeFreq.values())\n",
    "\n",
    "plt.bar(x, y)\n",
    "plt.xlabel('In-degree value')\n",
    "plt.ylabel('Frequency')\n",
    "plt.title('In-degree distribution of the network')\n",
    "plt.show()"
   ]
  },
  {
   "attachments": {},
   "cell_type": "markdown",
   "metadata": {},
   "source": [
    "Out-degree"
   ]
  },
  {
   "cell_type": "code",
   "execution_count": 46,
   "metadata": {},
   "outputs": [
    {
     "name": "stderr",
     "output_type": "stream",
     "text": [
      "100%|██████████| 6301/6301 [00:00<00:00, 297585.94it/s]\n"
     ]
    }
   ],
   "source": [
    "# computing frequency of each out-degree value\n",
    "outDegreeFreq = {}\n",
    "for node in tqdm(outDegreeList):\n",
    "    outDegreeVal = outDegreeList[node]\n",
    "    if outDegreeVal in outDegreeFreq:\n",
    "        outDegreeFreq[outDegreeVal] += 1\n",
    "    else:\n",
    "        outDegreeFreq[outDegreeVal] = 1"
   ]
  },
  {
   "cell_type": "code",
   "execution_count": 50,
   "metadata": {},
   "outputs": [
    {
     "data": {
      "image/png": "[encoded data removed]",
      "text/plain": [
       "<Figure size 640x480 with 1 Axes>"
      ]
     },
     "metadata": {},
     "output_type": "display_data"
    }
   ],
   "source": [
    "# Plotting the in-degree distribution\n",
    "x = list(outDegreeFreq.keys())\n",
    "y = list(outDegreeFreq.values())\n",
    "\n",
    "plt.bar(x, y)\n",
    "plt.xlabel('Out-degree value')\n",
    "plt.ylabel('Frequency')\n",
    "plt.title('Out-degree distribution of the network')\n",
    "plt.show()"
   ]
  },
  {
   "attachments": {},
   "cell_type": "markdown",
   "metadata": {},
   "source": [
    "### Local Clustering Coefficient"
   ]
  },
  {
   "cell_type": "code",
   "execution_count": 63,
   "metadata": {},
   "outputs": [],
   "source": [
    "# reference for formula to compute lcc - https://en.wikipedia.org/wiki/Clustering_coefficient#:~:text=The%20local%20clustering%20coefficient%20of%20a%20vertex%20(node)%20in%20a,is%20a%20small%2Dworld%20network."
   ]
  },
  {
   "cell_type": "code",
   "execution_count": 90,
   "metadata": {},
   "outputs": [
    {
     "name": "stdout",
     "output_type": "stream",
     "text": [
      "Collecting seaborn"
     ]
    },
    {
     "name": "stderr",
     "output_type": "stream",
     "text": [
      "WARNING: Ignoring invalid distribution -ip (c:\\python310\\lib\\site-packages)\n",
      "WARNING: Ignoring invalid distribution -ip (c:\\python310\\lib\\site-packages)\n",
      "WARNING: Ignoring invalid distribution -ip (c:\\python310\\lib\\site-packages)\n",
      "WARNING: Ignoring invalid distribution -ip (c:\\python310\\lib\\site-packages)\n",
      "WARNING: Ignoring invalid distribution -ip (c:\\python310\\lib\\site-packages)\n",
      "WARNING: Ignoring invalid distribution -ip (c:\\python310\\lib\\site-packages)\n",
      "WARNING: Ignoring invalid distribution -ip (c:\\python310\\lib\\site-packages)\n"
     ]
    },
    {
     "name": "stdout",
     "output_type": "stream",
     "text": [
      "\n",
      "  Using cached seaborn-0.12.2-py3-none-any.whl (293 kB)\n",
      "Requirement already satisfied: matplotlib!=3.6.1,>=3.1 in c:\\python310\\lib\\site-packages (from seaborn) (3.7.1)\n",
      "Requirement already satisfied: pandas>=0.25 in c:\\python310\\lib\\site-packages (from seaborn) (1.5.3)\n",
      "Requirement already satisfied: numpy!=1.24.0,>=1.17 in c:\\python310\\lib\\site-packages (from seaborn) (1.24.2)\n",
      "Requirement already satisfied: cycler>=0.10 in c:\\python310\\lib\\site-packages (from matplotlib!=3.6.1,>=3.1->seaborn) (0.11.0)\n",
      "Requirement already satisfied: pyparsing>=2.3.1 in c:\\python310\\lib\\site-packages (from matplotlib!=3.6.1,>=3.1->seaborn) (3.0.9)\n",
      "Requirement already satisfied: pillow>=6.2.0 in c:\\python310\\lib\\site-packages (from matplotlib!=3.6.1,>=3.1->seaborn) (9.5.0)\n",
      "Requirement already satisfied: python-dateutil>=2.7 in c:\\python310\\lib\\site-packages (from matplotlib!=3.6.1,>=3.1->seaborn) (2.8.2)\n",
      "Requirement already satisfied: contourpy>=1.0.1 in c:\\python310\\lib\\site-packages (from matplotlib!=3.6.1,>=3.1->seaborn) (1.0.7)\n",
      "Requirement already satisfied: fonttools>=4.22.0 in c:\\python310\\lib\\site-packages (from matplotlib!=3.6.1,>=3.1->seaborn) (4.39.3)\n",
      "Requirement already satisfied: packaging>=20.0 in c:\\python310\\lib\\site-packages (from matplotlib!=3.6.1,>=3.1->seaborn) (23.0)\n",
      "Requirement already satisfied: kiwisolver>=1.0.1 in c:\\python310\\lib\\site-packages (from matplotlib!=3.6.1,>=3.1->seaborn) (1.4.4)\n",
      "Requirement already satisfied: pytz>=2020.1 in c:\\python310\\lib\\site-packages (from pandas>=0.25->seaborn) (2022.7.1)\n",
      "Requirement already satisfied: six>=1.5 in c:\\python310\\lib\\site-packages (from python-dateutil>=2.7->matplotlib!=3.6.1,>=3.1->seaborn) (1.16.0)\n",
      "Installing collected packages: seaborn\n",
      "Successfully installed seaborn-0.12.2\n"
     ]
    }
   ],
   "source": [
    "# ! pip3 install seaborn"
   ]
  },
  {
   "cell_type": "code",
   "execution_count": 91,
   "metadata": {},
   "outputs": [],
   "source": [
    "import seaborn as sns"
   ]
  },
  {
   "cell_type": "code",
   "execution_count": 58,
   "metadata": {},
   "outputs": [
    {
     "name": "stderr",
     "output_type": "stream",
     "text": [
      "100%|██████████| 20777/20777 [00:00<00:00, 534170.16it/s]\n"
     ]
    }
   ],
   "source": [
    "# create an undirected adjacency list\n",
    "adjacencyListUndir = {}\n",
    "# Iterate over all the edges in the graph\n",
    "for i in tqdm(newGraph):\n",
    "    # represent the edge in adjacency list of i[0]\n",
    "    if i[0] in adjacencyListUndir:\n",
    "        adjacencyListUndir[i[0]].append(i[1])\n",
    "    else:\n",
    "        adjacencyListUndir[i[0]] = [i[1]]\n",
    "\n",
    "    # represent the edge in adjacency list of i[1]\n",
    "    if i[1] in adjacencyListUndir:\n",
    "        adjacencyListUndir[i[1]].append(i[0])\n",
    "    else:\n",
    "        adjacencyListUndir[i[1]] = [i[0]]"
   ]
  },
  {
   "cell_type": "code",
   "execution_count": 97,
   "metadata": {},
   "outputs": [],
   "source": [
    "lcc = {}\n",
    "for node in adjacencyList:\n",
    "    # k = number of neighbours of current node\n",
    "    # neighbourhood includes both type of nodes - nodes to which an edge is going and nodes from which an edge is coming\n",
    "    # that is why the undirected adjacency list is used\n",
    "    k = len(adjacencyListUndir[node])\n",
    "\n",
    "    if(k < 2):\n",
    "        # there is 1 or 0 nodes in the neighbourhood\n",
    "        # that means there cannot be any connections among the neighbours\n",
    "        # so the lcc is set to 0\n",
    "        lcc[node] = 0\n",
    "    else:\n",
    "        count = 0 # number of edges among neighbours\n",
    "\n",
    "        # iterate over all pairs of nodes in the neighbourhood\n",
    "        for neighbour1 in adjacencyListUndir[node]:\n",
    "            for neighbour2 in adjacencyListUndir[node]:\n",
    "                # if an edge exists from neighbour1 to neighbour2, add 1 to count\n",
    "                if neighbour1 != neighbour2 and neighbour2 in adjacencyList[neighbour1]: # Note - the directed graph adjacency list is used here because the actual edges are stored here\n",
    "                    count += 1\n",
    "\n",
    "        # lcc = \n",
    "        #  proportion of links between vertices within a node's neighbourhood\n",
    "        #  divided by number of links that could possibly exist between them\n",
    "        totLinks = k * (k-1) # for a directed graph, these are maximum connections possible among the neighbours\n",
    "        lcc[node] = count / totLinks"
   ]
  },
  {
   "cell_type": "code",
   "execution_count": 103,
   "metadata": {},
   "outputs": [],
   "source": [
    "# averageLCC = sum(lcc.values()) / len(lcc)\n",
    "# averageLCC"
   ]
  },
  {
   "cell_type": "code",
   "execution_count": 99,
   "metadata": {},
   "outputs": [
    {
     "name": "stderr",
     "output_type": "stream",
     "text": [
      "100%|██████████| 6301/6301 [00:00<00:00, 1049117.13it/s]\n"
     ]
    }
   ],
   "source": [
    "# computing frequency of each lcc value\n",
    "lccFreq = {}\n",
    "for node in tqdm(lcc):\n",
    "    lccVal = lcc[node]\n",
    "    if lccVal in lccFreq:\n",
    "        lccFreq[lccVal] += 1\n",
    "    else:\n",
    "        lccFreq[lccVal] = 1"
   ]
  },
  {
   "cell_type": "code",
   "execution_count": 100,
   "metadata": {},
   "outputs": [
    {
     "data": {
      "image/png": "[encoded data removed]",
      "text/plain": [
       "<Figure size 640x480 with 1 Axes>"
      ]
     },
     "metadata": {},
     "output_type": "display_data"
    }
   ],
   "source": [
    "# Plotting the lcc distribution: lcc vs frequency of lcc\n",
    "keys = list(lccFreq.keys())\n",
    "values = list(lccFreq.values())\n",
    "\n",
    "sns.histplot(x = keys, weights = values, binwidth = 0.01)\n",
    "plt.xlabel('LCC value')\n",
    "plt.ylabel('Frequency')\n",
    "plt.title('Clustering Coefficient distribution of the network')\n",
    "plt.show()"
   ]
  }
 ],
 "metadata": {
  "kernelspec": {
   "display_name": "Python 3",
   "language": "python",
   "name": "python3"
  },
  "language_info": {
   "codemirror_mode": {
    "name": "ipython",
    "version": 3
   },
   "file_extension": ".py",
   "mimetype": "text/x-python",
   "name": "python",
   "nbconvert_exporter": "python",
   "pygments_lexer": "ipython3",
   "version": "3.9.13"
  },
  "orig_nbformat": 4
 },
 "nbformat": 4,
 "nbformat_minor": 2
}
