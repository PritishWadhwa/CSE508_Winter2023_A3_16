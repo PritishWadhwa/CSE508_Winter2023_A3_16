{
 "cells": [
  {
   "cell_type": "code",
   "execution_count": 9,
   "metadata": {},
   "outputs": [],
   "source": [
    "# Importing the desired libraries\n",
    "import numpy as np\n",
    "from tqdm import tqdm"
   ]
  },
  {
   "cell_type": "code",
   "execution_count": 10,
   "metadata": {},
   "outputs": [],
   "source": [
    "# Reading the data from the file\n",
    "file = open(\"./Data/p2p-Gnutella08.txt\", \"r\")\n",
    "graph = file.read().splitlines()[4:]\n",
    "file.close()"
   ]
  },
  {
   "cell_type": "code",
   "execution_count": 11,
   "metadata": {},
   "outputs": [],
   "source": [
    "# Converting the data into tuples where (a,b) represents an edge from a to b\n",
    "newGraph = [i.split(\"\\t\") for i in graph]\n",
    "newGraph = [[int(j) for j in i] for i in newGraph]"
   ]
  },
  {
   "cell_type": "code",
   "execution_count": 12,
   "metadata": {},
   "outputs": [
    {
     "name": "stderr",
     "output_type": "stream",
     "text": [
      "100%|██████████| 20777/20777 [00:00<00:00, 335092.09it/s]\n"
     ]
    }
   ],
   "source": [
    "# Creating a list of nodes in the graph\n",
    "listOfNodes = set()\n",
    "for i in tqdm(range(len(newGraph))):\n",
    "    listOfNodes.add(newGraph[i][0])\n",
    "    listOfNodes.add(newGraph[i][1])"
   ]
  },
  {
   "attachments": {},
   "cell_type": "markdown",
   "metadata": {},
   "source": [
    "### Adjacency Matrix"
   ]
  },
  {
   "cell_type": "code",
   "execution_count": 13,
   "metadata": {},
   "outputs": [
    {
     "name": "stderr",
     "output_type": "stream",
     "text": [
      "100%|██████████| 20777/20777 [00:00<00:00, 305153.25it/s]\n"
     ]
    }
   ],
   "source": [
    "# convert to adjacency matrix\n",
    "# adjacencyMatrix[i,j] = 1 if there is an edge from i to j\n",
    "# adjacencyMatrix[i,j] = 0 otherwise\n",
    "adjacencyMatrix = np.zeros((len(listOfNodes), len(listOfNodes)))\n",
    "for i in tqdm(newGraph):\n",
    "    adjacencyMatrix[i[0], i[1]] = 1"
   ]
  },
  {
   "attachments": {},
   "cell_type": "markdown",
   "metadata": {},
   "source": [
    "### Adjacency List"
   ]
  },
  {
   "cell_type": "code",
   "execution_count": 14,
   "metadata": {},
   "outputs": [
    {
     "name": "stderr",
     "output_type": "stream",
     "text": [
      "100%|██████████| 20777/20777 [00:00<00:00, 492578.71it/s]\n"
     ]
    }
   ],
   "source": [
    "# convert to adjacency list\n",
    "adjacencyList = {}\n",
    "# Iterate over all the edges in the graph\n",
    "for i in tqdm(newGraph):\n",
    "    # If the source node is already present in the adjacency list\n",
    "    # Append the destination node to the list of nodes adjacent to the source node\n",
    "    # Else, add the source node to the adjacency list\n",
    "    # Add the destination node to the adjacency list as well \n",
    "    if i[0] in adjacencyList:\n",
    "        adjacencyList[i[0]].append(i[1])\n",
    "        if i[1] not in adjacencyList:\n",
    "            adjacencyList[i[1]] = []\n",
    "    else:\n",
    "        adjacencyList[i[0]] = [i[1]]\n",
    "        if i[1] not in adjacencyList:\n",
    "            adjacencyList[i[1]] = []   "
   ]
  },
  {
   "attachments": {},
   "cell_type": "markdown",
   "metadata": {},
   "source": [
    "### Number of Nodes "
   ]
  },
  {
   "cell_type": "code",
   "execution_count": 16,
   "metadata": {},
   "outputs": [
    {
     "name": "stdout",
     "output_type": "stream",
     "text": [
      "Number of nodes in the graph: 6301\n"
     ]
    }
   ],
   "source": [
    "print(f\"Number of nodes in the graph: {len(adjacencyList)}\")"
   ]
  },
  {
   "attachments": {},
   "cell_type": "markdown",
   "metadata": {},
   "source": [
    "### Number of Edges"
   ]
  },
  {
   "cell_type": "code",
   "execution_count": 17,
   "metadata": {},
   "outputs": [
    {
     "name": "stdout",
     "output_type": "stream",
     "text": [
      "Number of edges in the graph: 20777\n"
     ]
    }
   ],
   "source": [
    "# Summmation of the number of edges in the graph\n",
    "# The number of edges in the graph = length of the adjacency list of each node\n",
    "numEdges = 0\n",
    "for i in adjacencyList:\n",
    "    numEdges += len(adjacencyList[i])\n",
    "print(f\"Number of edges in the graph: {numEdges}\")"
   ]
  },
  {
   "attachments": {},
   "cell_type": "markdown",
   "metadata": {},
   "source": [
    "### Calculation of inDegree and outDegree."
   ]
  },
  {
   "cell_type": "code",
   "execution_count": 37,
   "metadata": {},
   "outputs": [],
   "source": [
    "# Calculate the in-degree and out-degree of each node\n",
    "#  We iterate over all the edges in the graph (a,b) \n",
    "#   where a is the source node and b is the destination node\n",
    "#  When a node is the source node, its out-degree is incremented\n",
    "#  When a node is the destination node, its in-degree is incremented\n",
    "nodes = len(listOfNodes)\n",
    "inDegreeList = dict(zip(list(listOfNodes), [0]*nodes))\n",
    "outDegreeList = dict(zip(list(listOfNodes), [0]*nodes))\n",
    "for i in newGraph:\n",
    "    fromNode = i[0]\n",
    "    toNode = i[1]\n",
    "    inDegreeList[toNode] += 1\n",
    "    outDegreeList[fromNode] += 1"
   ]
  },
  {
   "attachments": {},
   "cell_type": "markdown",
   "metadata": {},
   "source": [
    "### Average In Degree"
   ]
  },
  {
   "cell_type": "code",
   "execution_count": 38,
   "metadata": {},
   "outputs": [
    {
     "name": "stdout",
     "output_type": "stream",
     "text": [
      "Average In-Degree: 3.2974131090303125\n"
     ]
    }
   ],
   "source": [
    "print(f\"Average In-Degree: {np.mean(list(inDegreeList.values()))}\")"
   ]
  },
  {
   "attachments": {},
   "cell_type": "markdown",
   "metadata": {},
   "source": [
    "### Average Out Degree"
   ]
  },
  {
   "cell_type": "code",
   "execution_count": 39,
   "metadata": {},
   "outputs": [
    {
     "name": "stdout",
     "output_type": "stream",
     "text": [
      "Average Out-Degree: 3.2974131090303125\n"
     ]
    }
   ],
   "source": [
    "print(f\"Average Out-Degree: {np.mean(list(outDegreeList.values()))}\")"
   ]
  },
  {
   "attachments": {},
   "cell_type": "markdown",
   "metadata": {},
   "source": [
    "### Node with max in degree"
   ]
  },
  {
   "cell_type": "code",
   "execution_count": 40,
   "metadata": {},
   "outputs": [
    {
     "name": "stderr",
     "output_type": "stream",
     "text": [
      "100%|██████████| 6301/6301 [00:00<00:00, 891222.42it/s]\n"
     ]
    }
   ],
   "source": [
    "# Iterate over all the nodes in the graph\n",
    "#  Find the node with the maximum in-degree\n",
    "maxInDegree = -1\n",
    "maxInDegreeNode = -1\n",
    "for i in tqdm(inDegreeList):\n",
    "    if inDegreeList[i] > maxInDegree:\n",
    "        maxInDegree = inDegreeList[i]\n",
    "        maxInDegreeNode = i"
   ]
  },
  {
   "cell_type": "code",
   "execution_count": 41,
   "metadata": {},
   "outputs": [
    {
     "name": "stdout",
     "output_type": "stream",
     "text": [
      "Node with maximum in-degree: 266, in-degree: 91\n"
     ]
    }
   ],
   "source": [
    "print(f\"Node with maximum in-degree: {maxInDegreeNode}, in-degree: {maxInDegree}\")"
   ]
  },
  {
   "attachments": {},
   "cell_type": "markdown",
   "metadata": {},
   "source": [
    "### Node with max out degree"
   ]
  },
  {
   "cell_type": "code",
   "execution_count": 42,
   "metadata": {},
   "outputs": [
    {
     "name": "stderr",
     "output_type": "stream",
     "text": [
      "100%|██████████| 6301/6301 [00:00<00:00, 1030584.52it/s]\n"
     ]
    }
   ],
   "source": [
    "# Iterate over all the nodes in the graph\n",
    "#  Find the node with the maximum out-degree\n",
    "maxOutDegree = -1\n",
    "maxOutDegreeNode = -1\n",
    "for i in tqdm(outDegreeList):\n",
    "    if outDegreeList[i] > maxOutDegree:\n",
    "        maxOutDegree = outDegreeList[i]\n",
    "        maxOutDegreeNode = i"
   ]
  },
  {
   "cell_type": "code",
   "execution_count": 43,
   "metadata": {},
   "outputs": [
    {
     "name": "stdout",
     "output_type": "stream",
     "text": [
      "Node with maximum out-degree: 5831, out-degree: 48\n"
     ]
    }
   ],
   "source": [
    "print(f\"Node with maximum out-degree: {maxOutDegreeNode}, out-degree: {maxOutDegree}\")"
   ]
  },
  {
   "attachments": {},
   "cell_type": "markdown",
   "metadata": {},
   "source": [
    "### Density of the Graph"
   ]
  },
  {
   "cell_type": "code",
   "execution_count": 44,
   "metadata": {},
   "outputs": [],
   "source": [
    "# For directed graph, the maximum number of edges is\n",
    "# nodes * (nodes - 1)\n",
    "# Density = total number of edges / maximum number of edges\n",
    "nodes = len(listOfNodes)\n",
    "maxEdges = nodes * (nodes - 1)"
   ]
  },
  {
   "cell_type": "code",
   "execution_count": 45,
   "metadata": {},
   "outputs": [
    {
     "name": "stdout",
     "output_type": "stream",
     "text": [
      "Graph density: 0.0005233989061952878\n"
     ]
    }
   ],
   "source": [
    "print(f\"Graph density: {numEdges / maxEdges}\")"
   ]
  }
 ],
 "metadata": {
  "kernelspec": {
   "display_name": "Python 3",
   "language": "python",
   "name": "python3"
  },
  "language_info": {
   "codemirror_mode": {
    "name": "ipython",
    "version": 3
   },
   "file_extension": ".py",
   "mimetype": "text/x-python",
   "name": "python",
   "nbconvert_exporter": "python",
   "pygments_lexer": "ipython3",
   "version": "3.11.2"
  },
  "orig_nbformat": 4
 },
 "nbformat": 4,
 "nbformat_minor": 2
}
