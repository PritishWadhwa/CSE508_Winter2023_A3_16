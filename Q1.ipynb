{
 "cells": [
  {
   "cell_type": "code",
   "execution_count": 17,
   "metadata": {},
   "outputs": [],
   "source": [
    "import numpy as np"
   ]
  },
  {
   "cell_type": "code",
   "execution_count": 18,
   "metadata": {},
   "outputs": [],
   "source": [
    "file = open(\"./Data/p2p-Gnutella08.txt\", \"r\")\n",
    "graph = file.read().splitlines()[4:]\n",
    "file.close()"
   ]
  },
  {
   "cell_type": "code",
   "execution_count": 19,
   "metadata": {},
   "outputs": [],
   "source": [
    "newGraph = [i.split(\"\\t\") for i in graph]"
   ]
  },
  {
   "cell_type": "code",
   "execution_count": 20,
   "metadata": {},
   "outputs": [],
   "source": [
    "newGraph = [[int(j) for j in i] for i in newGraph]"
   ]
  },
  {
   "cell_type": "code",
   "execution_count": 25,
   "metadata": {},
   "outputs": [],
   "source": [
    "# convert to adjacency matrix\n",
    "adjacencyMatrix = np.zeros((len(newGraph), len(newGraph)))\n",
    "for i in newGraph:\n",
    "    adjacencyMatrix[i[0], i[1]] = 1"
   ]
  },
  {
   "cell_type": "code",
   "execution_count": 41,
   "metadata": {},
   "outputs": [],
   "source": [
    "inDegreeList = {}\n",
    "outDegreeList = {}\n",
    "\n",
    "# convert to adjacency list\n",
    "adjacencyList = {}\n",
    "for i in newGraph:\n",
    "    if i[0] in adjacencyList:\n",
    "        adjacencyList[i[0]].append(i[1])\n",
    "        if i[1] not in adjacencyList:\n",
    "            adjacencyList[i[1]] = []\n",
    "    else:\n",
    "        adjacencyList[i[0]] = [i[1]]\n",
    "        if i[1] not in adjacencyList:\n",
    "            adjacencyList[i[1]] = []\n",
    "\n",
    "    if i[1] in inDegreeList:\n",
    "        inDegreeList[i[1]] += 1\n",
    "    else:\n",
    "        inDegreeList[i[1]] = 1\n",
    "\n",
    "    if i[0] in outDegreeList:\n",
    "        outDegreeList[i[0]] += 1\n",
    "    else:\n",
    "        outDegreeList[i[0]] = 1"
   ]
  },
  {
   "attachments": {},
   "cell_type": "markdown",
   "metadata": {},
   "source": [
    "### Number of Nodes "
   ]
  },
  {
   "cell_type": "code",
   "execution_count": 42,
   "metadata": {},
   "outputs": [
    {
     "name": "stdout",
     "output_type": "stream",
     "text": [
      "Number of nodes in the graph: 6301\n"
     ]
    }
   ],
   "source": [
    "print(f\"Number of nodes in the graph: {len(adjacencyList)}\")"
   ]
  },
  {
   "attachments": {},
   "cell_type": "markdown",
   "metadata": {},
   "source": [
    "### Number of Edges"
   ]
  },
  {
   "cell_type": "code",
   "execution_count": 43,
   "metadata": {},
   "outputs": [
    {
     "name": "stdout",
     "output_type": "stream",
     "text": [
      "Number of edges in the graph: 20777\n"
     ]
    }
   ],
   "source": [
    "numEdges = 0\n",
    "for i in adjacencyList:\n",
    "    numEdges += len(adjacencyList[i])\n",
    "print(f\"Number of edges in the graph: {numEdges}\")"
   ]
  },
  {
   "attachments": {},
   "cell_type": "markdown",
   "metadata": {},
   "source": [
    "### Average In Degree"
   ]
  },
  {
   "cell_type": "code",
   "execution_count": 44,
   "metadata": {},
   "outputs": [
    {
     "name": "stdout",
     "output_type": "stream",
     "text": [
      "Average In-Degree: 3.3398167497186946\n"
     ]
    }
   ],
   "source": [
    "print(f\"Average In-Degree: {np.mean(list(inDegreeList.values()))}\")"
   ]
  },
  {
   "attachments": {},
   "cell_type": "markdown",
   "metadata": {},
   "source": [
    "### Average Out Degree"
   ]
  },
  {
   "cell_type": "code",
   "execution_count": 46,
   "metadata": {},
   "outputs": [
    {
     "name": "stdout",
     "output_type": "stream",
     "text": [
      "Average Out-Degree: 8.428803245436105\n"
     ]
    }
   ],
   "source": [
    "print(f\"Average Out-Degree: {np.mean(list(outDegreeList.values()))}\")"
   ]
  },
  {
   "attachments": {},
   "cell_type": "markdown",
   "metadata": {},
   "source": [
    "### Node with max in degree"
   ]
  },
  {
   "cell_type": "code",
   "execution_count": 49,
   "metadata": {},
   "outputs": [],
   "source": [
    "maxInDegree = -1\n",
    "maxInDegreeNode = -1\n",
    "for i in inDegreeList:\n",
    "    if inDegreeList[i] > maxInDegree:\n",
    "        maxInDegree = inDegreeList[i]\n",
    "        maxInDegreeNode = i"
   ]
  },
  {
   "cell_type": "code",
   "execution_count": 51,
   "metadata": {},
   "outputs": [
    {
     "name": "stdout",
     "output_type": "stream",
     "text": [
      "Node with maximum in-degree: 266\n"
     ]
    }
   ],
   "source": [
    "print(f\"Node with maximum in-degree: {maxInDegreeNode}\")"
   ]
  },
  {
   "attachments": {},
   "cell_type": "markdown",
   "metadata": {},
   "source": [
    "### Node with max out degree"
   ]
  },
  {
   "cell_type": "code",
   "execution_count": 52,
   "metadata": {},
   "outputs": [],
   "source": [
    "maxOutDegree = -1\n",
    "maxOutDegreeNode = -1\n",
    "for i in outDegreeList:\n",
    "    if outDegreeList[i] > maxOutDegree:\n",
    "        maxOutDegree = outDegreeList[i]\n",
    "        maxOutDegreeNode = i"
   ]
  },
  {
   "cell_type": "code",
   "execution_count": 53,
   "metadata": {},
   "outputs": [
    {
     "name": "stdout",
     "output_type": "stream",
     "text": [
      "Node with maximum out-degree: 5831\n"
     ]
    }
   ],
   "source": [
    "print(f\"Node with maximum out-degree: {maxOutDegreeNode}\")"
   ]
  },
  {
   "attachments": {},
   "cell_type": "markdown",
   "metadata": {},
   "source": [
    "### Density of the Graph"
   ]
  },
  {
   "cell_type": "code",
   "execution_count": 59,
   "metadata": {},
   "outputs": [],
   "source": [
    "maxEdges = (len(adjacencyList) * (len(adjacencyList) - 1)) / 2"
   ]
  },
  {
   "cell_type": "code",
   "execution_count": 60,
   "metadata": {},
   "outputs": [
    {
     "name": "stdout",
     "output_type": "stream",
     "text": [
      "Graph density: 0.0010467978123905755\n"
     ]
    }
   ],
   "source": [
    "print(f\"Graph density: {numEdges / maxEdges}\")"
   ]
  }
 ],
 "metadata": {
  "kernelspec": {
   "display_name": "Python 3",
   "language": "python",
   "name": "python3"
  },
  "language_info": {
   "codemirror_mode": {
    "name": "ipython",
    "version": 3
   },
   "file_extension": ".py",
   "mimetype": "text/x-python",
   "name": "python",
   "nbconvert_exporter": "python",
   "pygments_lexer": "ipython3",
   "version": "3.11.2"
  },
  "orig_nbformat": 4
 },
 "nbformat": 4,
 "nbformat_minor": 2
}
